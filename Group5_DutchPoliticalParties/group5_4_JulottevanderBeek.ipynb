{
 "cells": [
  {
   "cell_type": "markdown",
   "id": "northern-bottle",
   "metadata": {},
   "source": [
    "# Dutch Political Parties about Refugees"
   ]
  },
  {
   "cell_type": "markdown",
   "id": "assisted-spelling",
   "metadata": {},
   "source": [
    "### LSDP - Group 5 - RQ 4 by Julotte van der Beek (11338326)"
   ]
  },
  {
   "cell_type": "markdown",
   "id": "conscious-importance",
   "metadata": {},
   "source": [
    "### Table of Contents\n",
    "\n",
    "* 6.1. [Introduction research question](#1.-Introduction-research-question)\n",
    "    * 6.1.1. [Motivation](#6.1.1-Motivation)\n",
    "    * 6.1.2. [Related literature](#6.1.2.-Related-Literature)\n",
    "* 6.2. [Experimental Setup](#6.2.-Experimental-Setup)\n",
    "    * 6.2.1. [Dataset Preprocessing](#6.2.1.-Dataset-Preprocessing)\n",
    "    * 6.2.2. [Approach](#6.2.2.-Approach)\n",
    "    * 6.2.3. [Implementation](#6.2.3.-Implementation)\n",
    "* 6.3. [Evaluation](#6.3.-Evaluation)\n",
    "    * 6.3.1. [Results](#6.3.1.-Results)\n",
    "* 6.4. [Discussion](#6.4.-Discussion)\n",
    "    * 6.4.1. [Conclusion](#6.4.1.-Conclusion)\n",
    "    * 6.4.2. [Discussion results and suggestions future work](#6.4.2.-Discussion-results-and-suggestions-future-work)\n",
    "    * 6.4.3. [Lessons learned](#6.4.3.-Lessons-learned)"
   ]
  },
  {
   "cell_type": "markdown",
   "id": "independent-parent",
   "metadata": {},
   "source": [
    "# 6. RQ4 - Dutch Parties about Refugees"
   ]
  },
  {
   "cell_type": "markdown",
   "id": "imposed-giant",
   "metadata": {},
   "source": [
    "## 6.1. Introduction in Research Question\n",
    "With the upcoming elections in mind on the 17th of March 2021, the Dutch politicians are spreading their opinion on the big topics such as education, the economy and migration. In the election programme the parties release for the upcoming elections are all big topics covered, with the parties opinion about the topic. One of the big topics, migration, is what this research question is all about. With the fourth question __“Which political parties do talk positive or negative about accepting refugees?”__, the goal is to show if political parties really do talk positive or negative throughout the past years about accepting refugees as they say they will do in their election programme.  "
   ]
  },
  {
   "cell_type": "markdown",
   "id": "satisfactory-wilson",
   "metadata": {},
   "source": [
    "### 6.1.1 Motivation"
   ]
  },
  {
   "cell_type": "markdown",
   "id": "organized-reservation",
   "metadata": {},
   "source": [
    "### 6.1.2. Related Literature\n",
    "- Writing part about pattern \n",
    "- writing about sentiment \n"
   ]
  },
  {
   "cell_type": "markdown",
   "id": "social-chancellor",
   "metadata": {},
   "source": [
    "## 6.2.  Experimental Setup\n",
    "The Pattern library is a multipurpose library capable of handling tasks like giving a sentiment weight to words and sentences. The pattern.nl module contains a fast part-of-speech tagger for Dutch (identifies nouns, adjectives, verbs, etc. in a sentence), sentiment analysis, and tools for Dutch verb conjugation and noun singularization & pluralization. To run pattern there it must be downloaden first into the computer (explained in the steps below). Also there is a need to install Matplotlib, pandas and Numpy.\n",
    "<code>\n",
    "pip install pandas\n",
    "pip install numpy\n",
    "pip install matplotlib</code>"
   ]
  },
  {
   "cell_type": "code",
   "execution_count": 36,
   "id": "needed-butterfly",
   "metadata": {},
   "outputs": [],
   "source": [
    "import lxml\n",
    "import lxml.etree as ET\n",
    "import os\n",
    "import re\n",
    "\n",
    "import matplotlib\n",
    "import matplotlib.pyplot as plt\n",
    "import numpy as np\n",
    "\n",
    "import pandas as pd\n",
    "from pattern.nl import sentiment"
   ]
  },
  {
   "cell_type": "markdown",
   "id": "difficult-immune",
   "metadata": {},
   "source": [
    "When running pattern on a MacBook device, there could be problems with installing. If the Python3 does not work, the code could be running in a p36workshop environment. When installing this, work from a -bash terminal.\n",
    "\n",
    "<code>\n",
    "conda create -n p36workshop python=3.6 ipykernel jupyter anaconda\n",
    "conda activate p36workshop\n",
    "python kernel install --name p36workshop —user\n",
    "conda config --add channels conda-forge\n",
    "conda install pattern </code>\n",
    "    \n",
    "When installed, open Anaconda-Navigator and go to environments, select p36workshop and open a jupyter notebook. Now, when importing sentiment, from pattern.nl there must be no error anymore."
   ]
  },
  {
   "cell_type": "markdown",
   "id": "breeding-deadline",
   "metadata": {},
   "source": [
    "### 6.2.1. Dataset Preprocessing "
   ]
  },
  {
   "cell_type": "markdown",
   "id": "flexible-testament",
   "metadata": {},
   "source": [
    "The dataset that will be used for this RQ, is the same as for the other three. The ParlaMint dataset will contain 5198 files from 2014 to 2020. The files that are used in this RQ are the files that contain the keywords (later more about how the keywords are selected). The last file in the full_dataset_output_second_pass_16_01 folder is the ParlaMint-NL.xml, which contains information about the speakers and their parties. In the preprocessing the speakers will be matched to the parties, for later use in the RQ. The try is used, because some people in the Dutch  House of Representatives do not have a party, but still have their seat from when they left their old party. "
   ]
  },
  {
   "cell_type": "code",
   "execution_count": 48,
   "id": "controlling-biodiversity",
   "metadata": {},
   "outputs": [],
   "source": [
    "teksten = {'#reference':{},'#covid':{}}\n",
    "directory = os.listdir('full_dataset_output_second_pass_16_01')\n",
    "for i in sorted(directory):\n",
    "    if i == 'ParlaMint-NL.xml':\n",
    "        continue\n",
    "    i = os.path.join('full_dataset_output_second_pass_16_01', i)\n",
    "    tree = ET.parse(i)\n",
    "    root = tree.getroot()\n",
    "    tijd = root.attrib['ana']\n",
    "    \n",
    "    for text in root.iter('{http://www.tei-c.org/ns/1.0}u'):\n",
    "        if text.attrib['ana'] == '#chair':\n",
    "            continue\n",
    "        \n",
    "        for seg in text.findall('{http://www.tei-c.org/ns/1.0}seg'):\n",
    "            if tijd == '#reference':\n",
    "                if namen[text.attrib['who'][1:]] in teksten[tijd].keys():\n",
    "                    teksten[tijd][namen[text.attrib['who'][1:]]].append(seg.text)\n",
    "                else:\n",
    "                    teksten[tijd][namen[text.attrib['who'][1:]]] = [seg.text]\n",
    "            \n",
    "            else:\n",
    "                if namen[text.attrib['who'][1:]] in teksten[tijd].keys():\n",
    "                    teksten[tijd][namen[text.attrib['who'][1:]]].append(seg.text)\n",
    "                else:\n",
    "                    teksten[tijd][namen[text.attrib['who'][1:]]] = [seg.text]"
   ]
  },
  {
   "cell_type": "code",
   "execution_count": 50,
   "id": "dated-progress",
   "metadata": {},
   "outputs": [],
   "source": [
    "tree = ET.parse('ParlaMint-NL.xml')\n",
    "root = tree.getroot()\n",
    "namen = {}\n",
    "partijen = []\n",
    "for j in root.iter('{http://www.tei-c.org/ns/1.0}person'):\n",
    "    naam = j.attrib['{http://www.w3.org/XML/1998/namespace}id']\n",
    "    try:\n",
    "        partij = j.find('{http://www.tei-c.org/ns/1.0}affiliation').attrib['ref'][7:]\n",
    "    except AttributeError:\n",
    "        partij = None\n",
    "    except KeyError:\n",
    "        partij = 'Chair'\n",
    "    if partij not in partijen:\n",
    "        partijen.append(partij)\n",
    "    namen[naam] = partij"
   ]
  },
  {
   "cell_type": "markdown",
   "id": "satisfied-thread",
   "metadata": {},
   "source": [
    "The data now looks like, when you enter a name, the party of the name which is entered is shown:"
   ]
  },
  {
   "cell_type": "code",
   "execution_count": 51,
   "id": "introductory-stack",
   "metadata": {},
   "outputs": [
    {
     "name": "stdout",
     "output_type": "stream",
     "text": [
      "['Chair', 'VVD', 'SP', 'PvdA', 'CDA', 'PvdD', 'PVV', 'GroenLinks', 'SGP', 'D66', 'ChristenUnie', '50PLUS', None, 'OSF', 'DENK', 'Van Vliet', 'Groep Bontes/Van Klaveren', 'Houwers', 'Klein', 'Griffier', 'EP/VVD', 'EP/PvdA', 'EP/SP', 'EP/CDA', 'EP/D66', 'EP/GroenLinks', 'EP/CU/SGP', 'EP/PvdD', 'FvD', 'vanPareren']\n",
      "D66\n"
     ]
    }
   ],
   "source": [
    "print(partijen)\n",
    "print(namen['SigridKaag'])"
   ]
  },
  {
   "cell_type": "markdown",
   "id": "close-material",
   "metadata": {},
   "source": [
    "### 6.2.2. Approach"
   ]
  },
  {
   "cell_type": "markdown",
   "id": "sticky-browse",
   "metadata": {},
   "source": [
    "The approach that will be used to find an answer to the research question, is first collection a set of keywords about refugees. When this set of keywords is collected the keywords will help making a smaller dataset, with only the sentences about refugees in it. Later this sentences can be analyzed with the sentiment package from pattern.nl, and be linked back to the party who said it. So to display the approach short: \n",
    "* Find keywords \n",
    "* Collect the sentences with a keyword in it and make a smaller dataset\n",
    "* Use sentiment scores to model the opinions from parties about refugees    "
   ]
  },
  {
   "cell_type": "markdown",
   "id": "rapid-thinking",
   "metadata": {},
   "source": [
    "### 6.2.3. Implementation"
   ]
  },
  {
   "cell_type": "markdown",
   "id": "friendly-selection",
   "metadata": {},
   "source": [
    "To find the keywords which are relevant with the term refugee (vluchteling), this research question used the website www.rijksoverheid.nl and www.synoniemen.net. From this sites came clear that ‘vluchteling’, ‘asielzoeker’ and ‘immigrant’ are the top 3 most used Dutch words when people speak about refugees. With this information, the list keywords is created. In the next piece of code scans all the 5189 documents in the dataset for the keywords. "
   ]
  },
  {
   "cell_type": "code",
   "execution_count": 52,
   "id": "front-requirement",
   "metadata": {},
   "outputs": [
    {
     "name": "stdout",
     "output_type": "stream",
     "text": [
      "Number of times the word vluchtelingen appears in the dataset: 7124\n",
      "Number of times the word vluchteling appears in the dataset: 7547\n",
      "Number of times the word immigranten appears in the dataset: 326\n",
      "Number of times the word immigrant appears in the dataset: 344\n",
      "Number of times the word asielzoekers appears in the dataset: 3725\n",
      "Number of times the word asielzoeker appears in the dataset: 4258\n"
     ]
    }
   ],
   "source": [
    "def word_counter(word):\n",
    "    counter = 0\n",
    "    word_count = {}\n",
    "    directory = os.listdir('full_dataset_output_second_pass_16_01')\n",
    "    for filename in sorted(directory):\n",
    "        filepath = os.path.join('full_dataset_output_second_pass_16_01', filename)\n",
    "        with open(filepath, 'r') as fp:\n",
    "            for line in fp:\n",
    "                line = line.lower()\n",
    "                counter += line.count(word)\n",
    "    print(\"Number of times the word {} appears in the dataset: {}\".format(word, counter))\n",
    "\n",
    "keywords = ['vluchtelingen', 'vluchteling', 'immigranten', 'immigrant', 'asielzoekers', 'asielzoeker']\n",
    "\n",
    "\n",
    "for i in keywords:\n",
    "    word_counter(i)"
   ]
  },
  {
   "cell_type": "markdown",
   "id": "single-entity",
   "metadata": {},
   "source": [
    "The code below is the same as above, but makes a plot. I am still figuring out how to make it in a def and make it cleaner. "
   ]
  },
  {
   "cell_type": "code",
   "execution_count": 53,
   "id": "international-aggregate",
   "metadata": {},
   "outputs": [
    {
     "name": "stdout",
     "output_type": "stream",
     "text": [
      "vluchteling: 7547\n",
      "vluchtelingen: 7124\n",
      "Number of times the word vluchteling(en) appears in the dataset: 14671\n",
      "immigrant: 344\n",
      "immigranten: 326\n",
      "Number of times the word immigrant(en) appears in the dataset: 670\n",
      "asielzoeker: 4258\n",
      "asielzoekers: 3725\n",
      "Number of times the word asielzoeker(s) appears in the dataset: 7983\n"
     ]
    }
   ],
   "source": [
    "directory = os.listdir('full_dataset_output_second_pass_16_01')\n",
    "count_vluchteling = 0\n",
    "count_vluchtelingen = 0\n",
    "count_immigrant = 0\n",
    "count_immigranten = 0\n",
    "count_asielzoeker = 0\n",
    "count_asielzoekers = 0\n",
    "for filename in sorted(directory):\n",
    "    filepath = os.path.join('full_dataset_output_second_pass_16_01', filename)\n",
    "    with open(filepath, 'r') as fp:\n",
    "        for line in fp:\n",
    "            line = line.lower()\n",
    "            #String to search for:\n",
    "            count_vluchteling += line.count('vluchteling')\n",
    "            count_vluchtelingen += line.count('vluchtelingen')\n",
    "            count_immigrant += line.count('immigrant')\n",
    "            count_immigranten += line.count('immigranten')\n",
    "            count_asielzoeker += line.count('asielzoeker')\n",
    "            count_asielzoekers += line.count('asielzoekers')\n",
    "\n",
    "totaal_vlucht = count_vluchteling + count_vluchtelingen\n",
    "totaal_immi = count_immigrant + count_immigranten\n",
    "totaal_asiel = count_asielzoeker + count_asielzoekers\n",
    "\n",
    "print(\"vluchteling:\", count_vluchteling)\n",
    "print(\"vluchtelingen:\", count_vluchtelingen)\n",
    "print(\"Number of times the word vluchteling(en) appears in the dataset:\", totaal_vlucht)\n",
    "print(\"immigrant:\", count_immigrant)\n",
    "print(\"immigranten:\", count_immigranten)\n",
    "print(\"Number of times the word immigrant(en) appears in the dataset:\", totaal_immi)\n",
    "print(\"asielzoeker:\", count_asielzoeker)\n",
    "print(\"asielzoekers:\", count_asielzoekers)\n",
    "print(\"Number of times the word asielzoeker(s) appears in the dataset:\", totaal_asiel)"
   ]
  },
  {
   "cell_type": "code",
   "execution_count": 54,
   "id": "automated-russian",
   "metadata": {},
   "outputs": [
    {
     "data": {
      "image/png": "[encoded data removed]",
      "text/plain": [
       "<Figure size 432x288 with 1 Axes>"
      ]
     },
     "metadata": {
      "needs_background": "light"
     },
     "output_type": "display_data"
    }
   ],
   "source": [
    "fig = plt.figure()\n",
    "ax = fig.add_axes([0,0,1,1])\n",
    "langs = ['vluchteling(en)', 'immigrant(en)', 'asielzoeker(s)']\n",
    "students = [totaal_vlucht, totaal_immi, totaal_asiel]\n",
    "ax.bar(langs,students)\n",
    "plt.show()"
   ]
  },
  {
   "cell_type": "markdown",
   "id": "negative-revelation",
   "metadata": {},
   "source": [
    "The keywords are decided and count, now let's see in which years refugees where the highest priority with the Dutch Politicians."
   ]
  },
  {
   "cell_type": "code",
   "execution_count": 55,
   "id": "missing-record",
   "metadata": {},
   "outputs": [
    {
     "name": "stdout",
     "output_type": "stream",
     "text": [
      "[0, 5477, 4093, 1393, 1544, 925, 588] [0, 130, 72, 88, 189, 93, 95] [28, 3197, 1711, 950, 563, 925, 536]\n"
     ]
    }
   ],
   "source": [
    "c_v_2014 = c_i_2014 = c_a_2014 = 0\n",
    "c_v_2015 = c_i_2015 = c_a_2015 = 0\n",
    "c_v_2016 = c_i_2016 = c_a_2016 = 0\n",
    "c_v_2017 = c_i_2017 = c_a_2017 = 0\n",
    "c_v_2018 = c_i_2018 = c_a_2018 = 0\n",
    "c_v_2019 = c_i_2019 = c_a_2019 = 0\n",
    "c_v_2020 = c_i_2020 = c_a_2020 = 0\n",
    "l_2014 = [\"2014\"]\n",
    "l_2015 = [\"2015\"]\n",
    "l_2016 = [\"2016\"]\n",
    "l_2017 = [\"2017\"]\n",
    "l_2018 = [\"2018\"]\n",
    "l_2019 = [\"2019\"]\n",
    "l_2020 = [\"2020\"]\n",
    "totaal_v = []\n",
    "totaal_i = []\n",
    "totaal_a = []\n",
    "for filename in sorted(directory):\n",
    "    filepath = os.path.join('full_dataset_output_second_pass_16_01', filename)\n",
    "    for i in l_2014:\n",
    "        if i in filename:\n",
    "            with open(filepath, 'r') as fp:\n",
    "                for line in fp:\n",
    "                    c_v_2014 += line.count('vluchteling')\n",
    "                    c_v_2014 += line.count('vluchtelingen')\n",
    "                    c_v_2014 += line.count('Vluchteling')\n",
    "                    c_i_2014 += line.count('immigrant')\n",
    "                    c_i_2014 += line.count('Immigrant')\n",
    "                    c_i_2014 += line.count('immigranten')\n",
    "                    c_a_2014 += line.count('asielzoeker')\n",
    "                    c_a_2014 += line.count('Asielzoeker')\n",
    "                    c_a_2014 += line.count('asielzoekers')\n",
    "    for i in l_2015:\n",
    "        if i in filename:\n",
    "            with open(filepath, 'r') as fp:\n",
    "                for line in fp:\n",
    "                    c_v_2015 += line.count('vluchteling')\n",
    "                    c_v_2015 += line.count('vluchtelingen')\n",
    "                    c_v_2015 += line.count('Vluchteling')\n",
    "                    c_i_2015 += line.count('immigrant')\n",
    "                    c_i_2015 += line.count('Immigrant')\n",
    "                    c_i_2015 += line.count('immigranten')\n",
    "                    c_a_2015 += line.count('asielzoeker')\n",
    "                    c_a_2015 += line.count('Asielzoeker')\n",
    "                    c_a_2015 += line.count('asielzoekers')\n",
    "    for i in l_2016:\n",
    "        if i in filename:\n",
    "            with open(filepath, 'r') as fp:\n",
    "                for line in fp:\n",
    "                    c_v_2016 += line.count('vluchteling')\n",
    "                    c_v_2016 += line.count('vluchtelingen')\n",
    "                    c_v_2016 += line.count('Vluchteling')\n",
    "                    c_i_2016 += line.count('immigrant')\n",
    "                    c_i_2016 += line.count('Immigrant')\n",
    "                    c_i_2016 += line.count('immigranten')\n",
    "                    c_a_2016 += line.count('asielzoeker')\n",
    "                    c_a_2016 += line.count('Asielzoeker')\n",
    "                    c_a_2016 += line.count('asielzoekers')\n",
    "    for i in l_2017:\n",
    "        if i in filename:\n",
    "            with open(filepath, 'r') as fp:\n",
    "                for line in fp:\n",
    "                    c_v_2017 += line.count('vluchteling')\n",
    "                    c_v_2017 += line.count('vluchtelingen')\n",
    "                    c_v_2017 += line.count('Vluchteling')\n",
    "                    c_i_2017 += line.count('immigrant')\n",
    "                    c_i_2017 += line.count('Immigrant')\n",
    "                    c_i_2017 += line.count('immigranten')\n",
    "                    c_a_2017 += line.count('asielzoeker')\n",
    "                    c_a_2017 += line.count('Asielzoeker')\n",
    "                    c_a_2017 += line.count('asielzoekers')\n",
    "    for i in l_2018:\n",
    "        if i in filename:\n",
    "            with open(filepath, 'r') as fp:\n",
    "                for line in fp:\n",
    "                    c_v_2018 += line.count('vluchteling')\n",
    "                    c_v_2018 += line.count('vluchtelingen')\n",
    "                    c_v_2018 += line.count('Vluchteling')\n",
    "                    c_i_2018 += line.count('immigrant')\n",
    "                    c_i_2018 += line.count('Immigrant')\n",
    "                    c_i_2018 += line.count('immigranten')\n",
    "                    c_a_2018 += line.count('asielzoeker')\n",
    "                    c_a_2018 += line.count('Asielzoeker')\n",
    "                    c_a_2018 += line.count('asielzoekers')\n",
    "    for i in l_2019:\n",
    "        if i in filename:\n",
    "            with open(filepath, 'r') as fp:\n",
    "                for line in fp:\n",
    "                    c_v_2019 += line.count('vluchteling')\n",
    "                    c_v_2019 += line.count('vluchtelingen')\n",
    "                    c_v_2019 += line.count('Vluchteling')\n",
    "                    c_i_2019 += line.count('immigrant')\n",
    "                    c_i_2019 += line.count('Immigrant')\n",
    "                    c_i_2019 += line.count('immigranten')\n",
    "                    c_a_2019 += line.count('asielzoeker')\n",
    "                    c_a_2019 += line.count('Asielzoeker')\n",
    "                    c_a_2019 += line.count('asielzoekers')\n",
    "    for i in l_2020:\n",
    "        if i in filename:\n",
    "            with open(filepath, 'r') as fp:\n",
    "                for line in fp:\n",
    "                    c_v_2020 += line.count('vluchteling')\n",
    "                    c_v_2020 += line.count('vluchtelingen')\n",
    "                    c_v_2020 += line.count('Vluchteling')\n",
    "                    c_i_2020 += line.count('immigrant')\n",
    "                    c_i_2020 += line.count('Immigrant')\n",
    "                    c_i_2020 += line.count('immigranten')\n",
    "                    c_a_2020 += line.count('asielzoeker')\n",
    "                    c_a_2020 += line.count('Asielzoeker')\n",
    "                    c_a_2020 += line.count('asielzoekers')\n",
    "totaal_v.append(c_v_2014)\n",
    "totaal_i.append(c_i_2014)\n",
    "totaal_a.append(c_a_2014)\n",
    "totaal_v.append(c_v_2015)\n",
    "totaal_i.append(c_i_2015)\n",
    "totaal_a.append(c_a_2015)\n",
    "totaal_v.append(c_v_2016)\n",
    "totaal_i.append(c_i_2016)\n",
    "totaal_a.append(c_a_2016)\n",
    "totaal_v.append(c_v_2017)\n",
    "totaal_i.append(c_i_2017)\n",
    "totaal_a.append(c_a_2017)\n",
    "totaal_v.append(c_v_2018)\n",
    "totaal_i.append(c_i_2018)\n",
    "totaal_a.append(c_a_2018)\n",
    "totaal_v.append(c_v_2019)\n",
    "totaal_i.append(c_i_2019)\n",
    "totaal_a.append(c_a_2019)\n",
    "totaal_v.append(c_v_2020)\n",
    "totaal_i.append(c_i_2020)\n",
    "totaal_a.append(c_a_2020)\n",
    "print(totaal_v, totaal_i, totaal_a)"
   ]
  },
  {
   "cell_type": "code",
   "execution_count": 56,
   "id": "divine-jacksonville",
   "metadata": {},
   "outputs": [
    {
     "data": {
      "image/png": "[encoded data removed]",
      "text/plain": [
       "<Figure size 720x360 with 1 Axes>"
      ]
     },
     "metadata": {
      "needs_background": "light"
     },
     "output_type": "display_data"
    }
   ],
   "source": [
    "labels = ['2014', '2015', '2016', '2017', '2018', '2019', '2020']\n",
    "pos = list(range(len(totaal_v))) \n",
    "width = 0.25 \n",
    "fig, ax = plt.subplots(figsize=(10,5))\n",
    "\n",
    "bar_1 = plt.bar(pos, totaal_v, width, alpha=0.5, color='#EE3224', label=\"Vluchtelingen\") \n",
    "bar_2 = plt.bar([p + width for p in pos], totaal_a, width, alpha=0.5, color='#F78F1E', label=\"Asielzoekers\") \n",
    "bar_3 = plt.bar([p + width*2 for p in pos], totaal_i, width, alpha=0.5, color='#FFC222', label=\"Immigranten\") \n",
    "\n",
    "ax.set_ylabel('Number of times')\n",
    "\n",
    "\n",
    "ax.set_title('Number of times one of the keywords is called in the dataset')\n",
    "\n",
    "# Set the position of the x ticks\n",
    "ax.set_xticks([p + 1.5 * width for p in pos])\n",
    "\n",
    "# Set the labels for the x ticks\n",
    "ax.set_xticklabels(labels)\n",
    "\n",
    "# Setting the x-axis and y-axis limits\n",
    "plt.xlim(min(pos)-width, max(pos)+width*4)\n",
    "plt.ylim([0, max(totaal_v + totaal_a + totaal_i) + 500] )\n",
    "\n",
    "def autolabel(rects):\n",
    "    \"\"\"\n",
    "    Attach a text label above each bar displaying its height\n",
    "    \"\"\"\n",
    "    for rect in rects:\n",
    "        height = rect.get_height()\n",
    "        ax.text(rect.get_x() + rect.get_width()/2., 1.05*height,\n",
    "                '%d' % int(height),\n",
    "                ha='center', va='bottom')\n",
    "\n",
    "\n",
    "autolabel(bar_1)\n",
    "autolabel(bar_2)\n",
    "autolabel(bar_3)\n",
    "\n",
    "# Adding the legend and showing the plot\n",
    "plt.legend(['Vluchteling(en)', 'Asielzoeker(s)', 'Immigrant(en)'], loc='upper right')\n",
    "plt.grid()\n",
    "plt.show()"
   ]
  },
  {
   "cell_type": "markdown",
   "id": "french-penalty",
   "metadata": {},
   "source": [
    "Remove parties which are not big enough, because they do not have enough data to calculate the sentiment score."
   ]
  },
  {
   "cell_type": "code",
   "execution_count": 57,
   "id": "still-columbia",
   "metadata": {},
   "outputs": [
    {
     "name": "stdout",
     "output_type": "stream",
     "text": [
      "['VVD', 'SP', 'PvdA', 'CDA', 'PvdD', 'PVV', 'GroenLinks', 'SGP', 'D66', 'ChristenUnie', '50PLUS', 'DENK', 'FvD']\n"
     ]
    }
   ],
   "source": [
    "partijen.remove(None)\n",
    "partijen.remove('Chair')\n",
    "partijen.remove('OSF')\n",
    "partijen.remove('Van Vliet')\n",
    "partijen.remove('Groep Bontes/Van Klaveren')\n",
    "partijen.remove('Houwers')\n",
    "partijen.remove('Klein')\n",
    "partijen.remove('Griffier')\n",
    "partijen.remove('EP/VVD')\n",
    "partijen.remove('EP/PvdA')\n",
    "partijen.remove('EP/SP')\n",
    "partijen.remove('EP/CDA')\n",
    "partijen.remove('EP/D66')\n",
    "partijen.remove('EP/GroenLinks')\n",
    "partijen.remove('EP/CU/SGP')\n",
    "partijen.remove('EP/PvdD')\n",
    "partijen.remove('vanPareren')\n",
    "print(partijen)"
   ]
  },
  {
   "cell_type": "code",
   "execution_count": 68,
   "id": "drawn-soccer",
   "metadata": {},
   "outputs": [
    {
     "name": "stdout",
     "output_type": "stream",
     "text": [
      "VVD over ['vluchtelingen', 'vluchteling', 'immigranten', 'immigrant', 'asielzoekers', 'asielzoeker', 'Vluchtelingen', 'Vluchteling', 'Immigranten', 'Immigrant', 'Asielzoekers', 'Asielzoeker']\n",
      "0\n",
      "nan\n"
     ]
    },
    {
     "ename": "TypeError",
     "evalue": "expected non-empty vector for x",
     "output_type": "error",
     "traceback": [
      "\u001b[0;31m---------------------------------------------------------------------------\u001b[0m",
      "\u001b[0;31mTypeError\u001b[0m                                 Traceback (most recent call last)",
      "\u001b[0;32m<ipython-input-68-1640fc71759d>\u001b[0m in \u001b[0;36m<module>\u001b[0;34m\u001b[0m\n\u001b[1;32m     29\u001b[0m \u001b[0;31m#keywords = ['vluchtelingen', 'vluchteling', 'immigranten', 'immigrant', 'asielzoekers', 'asielzoeker', 'Vluchtelingen', 'Vluchteling', 'Immigranten', 'Immigrant', 'Asielzoekers', 'Asielzoeker' ]\u001b[0m\u001b[0;34m\u001b[0m\u001b[0;34m\u001b[0m\u001b[0;34m\u001b[0m\u001b[0m\n\u001b[1;32m     30\u001b[0m \u001b[0;32mfor\u001b[0m \u001b[0mi\u001b[0m \u001b[0;32min\u001b[0m \u001b[0mpartijen\u001b[0m\u001b[0;34m:\u001b[0m\u001b[0;34m\u001b[0m\u001b[0;34m\u001b[0m\u001b[0m\n\u001b[0;32m---> 31\u001b[0;31m     \u001b[0mcompare\u001b[0m\u001b[0;34m(\u001b[0m\u001b[0mi\u001b[0m\u001b[0;34m)\u001b[0m\u001b[0;34m\u001b[0m\u001b[0;34m\u001b[0m\u001b[0m\n\u001b[0m",
      "\u001b[0;32m<ipython-input-68-1640fc71759d>\u001b[0m in \u001b[0;36mcompare\u001b[0;34m(party1)\u001b[0m\n\u001b[1;32m     21\u001b[0m     \u001b[0;32mfor\u001b[0m \u001b[0mi\u001b[0m \u001b[0;32min\u001b[0m \u001b[0mrange\u001b[0m\u001b[0;34m(\u001b[0m\u001b[0mlen\u001b[0m\u001b[0;34m(\u001b[0m\u001b[0my\u001b[0m\u001b[0;34m)\u001b[0m\u001b[0;34m)\u001b[0m\u001b[0;34m:\u001b[0m\u001b[0;34m\u001b[0m\u001b[0;34m\u001b[0m\u001b[0m\n\u001b[1;32m     22\u001b[0m         \u001b[0mx\u001b[0m\u001b[0;34m.\u001b[0m\u001b[0mappend\u001b[0m\u001b[0;34m(\u001b[0m\u001b[0mi\u001b[0m\u001b[0;34m)\u001b[0m\u001b[0;34m\u001b[0m\u001b[0;34m\u001b[0m\u001b[0m\n\u001b[0;32m---> 23\u001b[0;31m     \u001b[0mz\u001b[0m \u001b[0;34m=\u001b[0m \u001b[0mnp\u001b[0m\u001b[0;34m.\u001b[0m\u001b[0mpolyfit\u001b[0m\u001b[0;34m(\u001b[0m\u001b[0mx\u001b[0m\u001b[0;34m,\u001b[0m \u001b[0my\u001b[0m\u001b[0;34m,\u001b[0m \u001b[0;36m1\u001b[0m\u001b[0;34m)\u001b[0m\u001b[0;34m\u001b[0m\u001b[0;34m\u001b[0m\u001b[0m\n\u001b[0m\u001b[1;32m     24\u001b[0m     \u001b[0mp\u001b[0m \u001b[0;34m=\u001b[0m \u001b[0mnp\u001b[0m\u001b[0;34m.\u001b[0m\u001b[0mpoly1d\u001b[0m\u001b[0;34m(\u001b[0m\u001b[0mz\u001b[0m\u001b[0;34m)\u001b[0m\u001b[0;34m\u001b[0m\u001b[0;34m\u001b[0m\u001b[0m\n\u001b[1;32m     25\u001b[0m     \u001b[0mprint\u001b[0m\u001b[0;34m(\u001b[0m\u001b[0mp\u001b[0m\u001b[0;34m)\u001b[0m\u001b[0;34m\u001b[0m\u001b[0;34m\u001b[0m\u001b[0m\n",
      "\u001b[0;32m<__array_function__ internals>\u001b[0m in \u001b[0;36mpolyfit\u001b[0;34m(*args, **kwargs)\u001b[0m\n",
      "\u001b[0;32m~/anaconda3/envs/p36workshop/lib/python3.6/site-packages/numpy/lib/polynomial.py\u001b[0m in \u001b[0;36mpolyfit\u001b[0;34m(x, y, deg, rcond, full, w, cov)\u001b[0m\n\u001b[1;32m    597\u001b[0m         \u001b[0;32mraise\u001b[0m \u001b[0mTypeError\u001b[0m\u001b[0;34m(\u001b[0m\u001b[0;34m\"expected 1D vector for x\"\u001b[0m\u001b[0;34m)\u001b[0m\u001b[0;34m\u001b[0m\u001b[0;34m\u001b[0m\u001b[0m\n\u001b[1;32m    598\u001b[0m     \u001b[0;32mif\u001b[0m \u001b[0mx\u001b[0m\u001b[0;34m.\u001b[0m\u001b[0msize\u001b[0m \u001b[0;34m==\u001b[0m \u001b[0;36m0\u001b[0m\u001b[0;34m:\u001b[0m\u001b[0;34m\u001b[0m\u001b[0;34m\u001b[0m\u001b[0m\n\u001b[0;32m--> 599\u001b[0;31m         \u001b[0;32mraise\u001b[0m \u001b[0mTypeError\u001b[0m\u001b[0;34m(\u001b[0m\u001b[0;34m\"expected non-empty vector for x\"\u001b[0m\u001b[0;34m)\u001b[0m\u001b[0;34m\u001b[0m\u001b[0;34m\u001b[0m\u001b[0m\n\u001b[0m\u001b[1;32m    600\u001b[0m     \u001b[0;32mif\u001b[0m \u001b[0my\u001b[0m\u001b[0;34m.\u001b[0m\u001b[0mndim\u001b[0m \u001b[0;34m<\u001b[0m \u001b[0;36m1\u001b[0m \u001b[0;32mor\u001b[0m \u001b[0my\u001b[0m\u001b[0;34m.\u001b[0m\u001b[0mndim\u001b[0m \u001b[0;34m>\u001b[0m \u001b[0;36m2\u001b[0m\u001b[0;34m:\u001b[0m\u001b[0;34m\u001b[0m\u001b[0;34m\u001b[0m\u001b[0m\n\u001b[1;32m    601\u001b[0m         \u001b[0;32mraise\u001b[0m \u001b[0mTypeError\u001b[0m\u001b[0;34m(\u001b[0m\u001b[0;34m\"expected 1D or 2D array for y\"\u001b[0m\u001b[0;34m)\u001b[0m\u001b[0;34m\u001b[0m\u001b[0;34m\u001b[0m\u001b[0m\n",
      "\u001b[0;31mTypeError\u001b[0m: expected non-empty vector for x"
     ]
    },
    {
     "data": {
      "image/png": "[encoded data removed]",
      "text/plain": [
       "<Figure size 432x288 with 1 Axes>"
      ]
     },
     "metadata": {
      "needs_background": "light"
     },
     "output_type": "display_data"
    }
   ],
   "source": [
    "def compare(party1):\n",
    "    y = []\n",
    "    counter = 0\n",
    "    keywords = ['vluchtelingen', 'vluchteling', 'immigranten', 'immigrant', 'asielzoekers', 'asielzoeker', 'Vluchtelingen', 'Vluchteling', 'Immigranten', 'Immigrant', 'Asielzoekers', 'Asielzoeker' ]\n",
    "    for j in ['#reference', '#covid']:\n",
    "        a = len(y)\n",
    "        for i in teksten[j][party1]:\n",
    "            try:\n",
    "                if keywords in i:\n",
    "                    y.append(sentiment(i)[0])\n",
    "                    counter += 1\n",
    "            except TypeError:\n",
    "                pass\n",
    "\n",
    "    plt.plot(y)\n",
    "    plt.axvline(a,c='green',label='covid')\n",
    "    x = []\n",
    "    print('{} over {}'.format(party1,keywords))\n",
    "    print(counter)\n",
    "    print(np.std(y))\n",
    "    for i in range(len(y)):\n",
    "        x.append(i)\n",
    "    z = np.polyfit(x, y, 1)\n",
    "    p = np.poly1d(z)\n",
    "    print(p)\n",
    "    plt.plot(x,p(x),\"r--\")\n",
    "    plt.show()\n",
    "\n",
    "#keywords = ['vluchtelingen', 'vluchteling', 'immigranten', 'immigrant', 'asielzoekers', 'asielzoeker', 'Vluchtelingen', 'Vluchteling', 'Immigranten', 'Immigrant', 'Asielzoekers', 'Asielzoeker' ]\n",
    "for i in partijen:\n",
    "    compare(i)"
   ]
  },
  {
   "cell_type": "code",
   "execution_count": 70,
   "id": "related-diploma",
   "metadata": {},
   "outputs": [
    {
     "name": "stdout",
     "output_type": "stream",
     "text": [
      "\n",
      "Number of keywords: 6 \n",
      "\n",
      "          Partij  Average sentiment keywords  Stdev sentiment keywords  \\\n",
      "0            VVD                    0.317616                  0.318733   \n",
      "1             SP                    0.326922                  0.316272   \n",
      "2           PvdA                    0.259231                  0.314068   \n",
      "3            CDA                    0.271801                  0.274848   \n",
      "4           PvdD                    0.255368                  0.241425   \n",
      "5            PVV                    0.278307                  0.286301   \n",
      "6     GroenLinks                    0.292825                  0.275542   \n",
      "7            SGP                    0.371806                  0.282933   \n",
      "8            D66                    0.306316                  0.291727   \n",
      "9   ChristenUnie                    0.299185                  0.384942   \n",
      "10        50PLUS                    0.281500                  0.387075   \n",
      "11          DENK                    0.263957                  0.406308   \n",
      "12           FvD                    0.289114                  0.326198   \n",
      "\n",
      "    N keywords  Average sentiment  Stddev sentiment      N  \n",
      "0           46           0.284183          0.296492  21285  \n",
      "1           18           0.277280          0.303134   8717  \n",
      "2           15           0.281228          0.301531   6492  \n",
      "3           16           0.285219          0.295224  19135  \n",
      "4            6           0.261428          0.309773   4221  \n",
      "5           80           0.258629          0.315077   6957  \n",
      "6           57           0.289925          0.301037   8393  \n",
      "7           10           0.288033          0.305365   3391  \n",
      "8           46           0.290274          0.295201  15938  \n",
      "9           18           0.295999          0.296423   7579  \n",
      "10           5           0.261392          0.310981   2865  \n",
      "11           9           0.253217          0.321327   2374  \n",
      "12          38           0.256267          0.307840   3390  \n"
     ]
    },
    {
     "data": {
      "image/png": "[encoded data removed]",
      "text/plain": [
       "<Figure size 432x288 with 1 Axes>"
      ]
     },
     "metadata": {
      "needs_background": "light"
     },
     "output_type": "display_data"
    },
    {
     "data": {
      "image/png": "[encoded data removed]",
      "text/plain": [
       "<Figure size 432x288 with 1 Axes>"
      ]
     },
     "metadata": {
      "needs_background": "light"
     },
     "output_type": "display_data"
    }
   ],
   "source": [
    "keywords = ['vluchtelingen', 'vluchteling', 'immigranten', 'immigrant', 'asielzoekers', 'asielzoeker']\n",
    "print('\\nNumber of keywords:', len(keywords),\"\\n\")\n",
    "\n",
    "# setting up empty lists for the x and y data\n",
    "scores = []\n",
    "\n",
    "for partij in partijen:\n",
    "    # setting counters\n",
    "    count1 = 0\n",
    "    count2 = 0\n",
    "\n",
    "    if partij in teksten['#covid']:\n",
    "        # setting up empty lists for scores\n",
    "        score1 = []\n",
    "        score2 = []\n",
    "\n",
    "        for tekst in teksten['#covid'][partij]:\n",
    "\n",
    "            # ignoring none-types or other datatypes\n",
    "            if isinstance(tekst, str):\n",
    "                words = tekst.split()\n",
    "\n",
    "                for word in words:\n",
    "                    # removing punctuation\n",
    "                    re.sub('[,\\.!?]', '', word)\n",
    "                    # setting words to lowercase\n",
    "                    word.lower()\n",
    "\n",
    "            # overall sentiment\n",
    "            score2.append(sentiment(tekst))\n",
    "            count2 += 1\n",
    "\n",
    "            # focussing on keywords about covid-19\n",
    "            check = any(item in words for item in keywords)\n",
    "\n",
    "            if check == True:\n",
    "                score1.append(sentiment(tekst))\n",
    "                # checking number of tekst with keywords\n",
    "                count1 += 1\n",
    "\n",
    "        # checking per party\n",
    "        scores.append([partij, np.mean(score1), np.std(score1), count1, np.mean(score2), np.std(score2), count2])\n",
    "\n",
    "# df with data\n",
    "df_sent = pd.DataFrame(scores, columns=['Partij', 'Average sentiment keywords','Stdev sentiment keywords', 'N keywords','Average sentiment', 'Stddev sentiment', 'N'])\n",
    "print(df_sent)\n",
    "\n",
    "# prep for plot\n",
    "parties = [row[0] for row in scores]\n",
    "x = np.arange(len(parties))\n",
    "\n",
    "# plot of results of keyword related text\n",
    "fig, ax = plt.subplots()\n",
    "ax.bar(x, [row[1] for row in scores],\n",
    "       yerr=[row[2] for row in scores],\n",
    "       align='center',\n",
    "       alpha=0.5,\n",
    "       ecolor='black',\n",
    "       capsize=10)\n",
    "\n",
    "ax.set_ylabel('Sentiment')\n",
    "ax.set_xticks(x)\n",
    "ax.set_xticklabels(parties, rotation=45)\n",
    "ax.set_title('Sentiment on refugee related topics selected with keywords')\n",
    "ax.yaxis.grid(True)\n",
    "\n",
    "plt.tight_layout()\n",
    "plt.savefig('plot_sent_key.png')\n",
    "\n",
    "# plot of results of all covid related text\n",
    "fig, ax = plt.subplots()\n",
    "ax.bar(x, [row[4] for row in scores],\n",
    "       yerr=[row[5] for row in scores],\n",
    "       align='center',\n",
    "       alpha=0.5,\n",
    "       ecolor='black',\n",
    "       capsize=10)\n",
    "\n",
    "ax.set_ylabel('Sentiment')\n",
    "ax.set_xticks(x)\n",
    "ax.set_xticklabels(parties, rotation=45)\n",
    "ax.set_title('Sentiment on all refugee related topics')\n",
    "ax.yaxis.grid(True)\n",
    "\n",
    "plt.tight_layout()\n",
    "plt.savefig('plot_sent_all.png')\n",
    "plt.show()"
   ]
  },
  {
   "cell_type": "markdown",
   "id": "premier-presence",
   "metadata": {},
   "source": [
    "## 6.3. Evaluation"
   ]
  },
  {
   "cell_type": "code",
   "execution_count": null,
   "id": "hindu-pharmacy",
   "metadata": {},
   "outputs": [],
   "source": []
  },
  {
   "cell_type": "markdown",
   "id": "interpreted-section",
   "metadata": {},
   "source": [
    "### 6.3.1. Results"
   ]
  },
  {
   "cell_type": "markdown",
   "id": "national-holiday",
   "metadata": {},
   "source": [
    "## 6.4. Discussion"
   ]
  },
  {
   "cell_type": "markdown",
   "id": "grave-summary",
   "metadata": {},
   "source": [
    "### 6.4.1. Conclusion"
   ]
  },
  {
   "cell_type": "markdown",
   "id": "native-scroll",
   "metadata": {},
   "source": [
    "### 6.4.2. Discussion results and suggestions future work"
   ]
  },
  {
   "cell_type": "markdown",
   "id": "tested-blackjack",
   "metadata": {},
   "source": [
    "### 6.4.3. Lessons learned"
   ]
  },
  {
   "cell_type": "code",
   "execution_count": null,
   "id": "written-backup",
   "metadata": {},
   "outputs": [],
   "source": []
  }
 ],
 "metadata": {
  "kernelspec": {
   "display_name": "p36workshop",
   "language": "python",
   "name": "p36workshop"
  },
  "language_info": {
   "codemirror_mode": {
    "name": "ipython",
    "version": 3
   },
   "file_extension": ".py",
   "mimetype": "text/x-python",
   "name": "python",
   "nbconvert_exporter": "python",
   "pygments_lexer": "ipython3",
   "version": "3.6.13"
  }
 },
 "nbformat": 4,
 "nbformat_minor": 5
}
